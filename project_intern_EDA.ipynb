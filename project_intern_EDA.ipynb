{
  "cells": [
    {
      "cell_type": "code",
      "execution_count": null,
      "id": "71103fca",
      "metadata": {
        "id": "71103fca"
      },
      "outputs": [],
      "source": [
        "import numpy as np\n",
        "import pandas as pd\n",
        "import seaborn as sns\n",
        "import matplotlib.pyplot as plt\n",
        "%matplotlib inline"
      ]
    },
    {
      "cell_type": "markdown",
      "id": "adf0d676",
      "metadata": {
        "id": "adf0d676"
      },
      "source": [
        "## Importing CSV file"
      ]
    },
    {
      "cell_type": "code",
      "execution_count": null,
      "id": "1bfd7a77",
      "metadata": {
        "id": "1bfd7a77"
      },
      "outputs": [],
      "source": [
        "df = pd.read_csv('students_adaptability_level_online_education.csv')"
      ]
    },
    {
      "cell_type": "code",
      "execution_count": null,
      "id": "3939dc54",
      "metadata": {
        "id": "3939dc54",
        "outputId": "b33dae1f-171f-4961-fdfa-ae67439d8266"
      },
      "outputs": [
        {
          "data": {
            "text/html": [
              "<div>\n",
              "<style scoped>\n",
              "    .dataframe tbody tr th:only-of-type {\n",
              "        vertical-align: middle;\n",
              "    }\n",
              "\n",
              "    .dataframe tbody tr th {\n",
              "        vertical-align: top;\n",
              "    }\n",
              "\n",
              "    .dataframe thead th {\n",
              "        text-align: right;\n",
              "    }\n",
              "</style>\n",
              "<table border=\"1\" class=\"dataframe\">\n",
              "  <thead>\n",
              "    <tr style=\"text-align: right;\">\n",
              "      <th></th>\n",
              "      <th>Gender</th>\n",
              "      <th>Age</th>\n",
              "      <th>Education Level</th>\n",
              "      <th>Institution Type</th>\n",
              "      <th>IT Student</th>\n",
              "      <th>Location</th>\n",
              "      <th>Load-shedding</th>\n",
              "      <th>Financial Condition</th>\n",
              "      <th>Internet Type</th>\n",
              "      <th>Network Type</th>\n",
              "      <th>Class Duration</th>\n",
              "      <th>Self Lms</th>\n",
              "      <th>Device</th>\n",
              "      <th>Adaptivity Level</th>\n",
              "    </tr>\n",
              "  </thead>\n",
              "  <tbody>\n",
              "    <tr>\n",
              "      <th>0</th>\n",
              "      <td>Boy</td>\n",
              "      <td>21-25</td>\n",
              "      <td>University</td>\n",
              "      <td>Non Government</td>\n",
              "      <td>No</td>\n",
              "      <td>Yes</td>\n",
              "      <td>Low</td>\n",
              "      <td>Mid</td>\n",
              "      <td>Wifi</td>\n",
              "      <td>4G</td>\n",
              "      <td>3-6</td>\n",
              "      <td>No</td>\n",
              "      <td>Tab</td>\n",
              "      <td>Moderate</td>\n",
              "    </tr>\n",
              "    <tr>\n",
              "      <th>1</th>\n",
              "      <td>Girl</td>\n",
              "      <td>21-25</td>\n",
              "      <td>University</td>\n",
              "      <td>Non Government</td>\n",
              "      <td>No</td>\n",
              "      <td>Yes</td>\n",
              "      <td>High</td>\n",
              "      <td>Mid</td>\n",
              "      <td>Mobile Data</td>\n",
              "      <td>4G</td>\n",
              "      <td>1-3</td>\n",
              "      <td>Yes</td>\n",
              "      <td>Mobile</td>\n",
              "      <td>Moderate</td>\n",
              "    </tr>\n",
              "    <tr>\n",
              "      <th>2</th>\n",
              "      <td>Girl</td>\n",
              "      <td>16-20</td>\n",
              "      <td>College</td>\n",
              "      <td>Government</td>\n",
              "      <td>No</td>\n",
              "      <td>Yes</td>\n",
              "      <td>Low</td>\n",
              "      <td>Mid</td>\n",
              "      <td>Wifi</td>\n",
              "      <td>4G</td>\n",
              "      <td>1-3</td>\n",
              "      <td>No</td>\n",
              "      <td>Mobile</td>\n",
              "      <td>Moderate</td>\n",
              "    </tr>\n",
              "    <tr>\n",
              "      <th>3</th>\n",
              "      <td>Girl</td>\n",
              "      <td>11-15</td>\n",
              "      <td>School</td>\n",
              "      <td>Non Government</td>\n",
              "      <td>No</td>\n",
              "      <td>Yes</td>\n",
              "      <td>Low</td>\n",
              "      <td>Mid</td>\n",
              "      <td>Mobile Data</td>\n",
              "      <td>4G</td>\n",
              "      <td>1-3</td>\n",
              "      <td>No</td>\n",
              "      <td>Mobile</td>\n",
              "      <td>Moderate</td>\n",
              "    </tr>\n",
              "    <tr>\n",
              "      <th>4</th>\n",
              "      <td>Girl</td>\n",
              "      <td>16-20</td>\n",
              "      <td>School</td>\n",
              "      <td>Non Government</td>\n",
              "      <td>No</td>\n",
              "      <td>Yes</td>\n",
              "      <td>Low</td>\n",
              "      <td>Poor</td>\n",
              "      <td>Mobile Data</td>\n",
              "      <td>3G</td>\n",
              "      <td>0</td>\n",
              "      <td>No</td>\n",
              "      <td>Mobile</td>\n",
              "      <td>Low</td>\n",
              "    </tr>\n",
              "  </tbody>\n",
              "</table>\n",
              "</div>"
            ],
            "text/plain": [
              "  Gender    Age Education Level Institution Type IT Student Location  \\\n",
              "0    Boy  21-25      University   Non Government         No      Yes   \n",
              "1   Girl  21-25      University   Non Government         No      Yes   \n",
              "2   Girl  16-20         College       Government         No      Yes   \n",
              "3   Girl  11-15          School   Non Government         No      Yes   \n",
              "4   Girl  16-20          School   Non Government         No      Yes   \n",
              "\n",
              "  Load-shedding Financial Condition Internet Type Network Type Class Duration  \\\n",
              "0           Low                 Mid          Wifi           4G            3-6   \n",
              "1          High                 Mid   Mobile Data           4G            1-3   \n",
              "2           Low                 Mid          Wifi           4G            1-3   \n",
              "3           Low                 Mid   Mobile Data           4G            1-3   \n",
              "4           Low                Poor   Mobile Data           3G              0   \n",
              "\n",
              "  Self Lms  Device Adaptivity Level  \n",
              "0       No     Tab         Moderate  \n",
              "1      Yes  Mobile         Moderate  \n",
              "2       No  Mobile         Moderate  \n",
              "3       No  Mobile         Moderate  \n",
              "4       No  Mobile              Low  "
            ]
          },
          "execution_count": 3,
          "metadata": {},
          "output_type": "execute_result"
        }
      ],
      "source": [
        "# look the dataset\n",
        "df.head()"
      ]
    },
    {
      "cell_type": "code",
      "execution_count": null,
      "id": "f01e3c45",
      "metadata": {
        "id": "f01e3c45",
        "outputId": "616b74a0-290b-45a6-c684-02ddf129a479"
      },
      "outputs": [
        {
          "data": {
            "text/plain": [
              "(1205, 14)"
            ]
          },
          "execution_count": 4,
          "metadata": {},
          "output_type": "execute_result"
        }
      ],
      "source": [
        "# Looking for no. of rows and column\n",
        "df.shape"
      ]
    },
    {
      "cell_type": "code",
      "execution_count": null,
      "id": "c723287a",
      "metadata": {
        "id": "c723287a",
        "outputId": "e05a6bb2-64a6-4cba-efdf-8176098414b0"
      },
      "outputs": [
        {
          "name": "stdout",
          "output_type": "stream",
          "text": [
            "<class 'pandas.core.frame.DataFrame'>\n",
            "RangeIndex: 1205 entries, 0 to 1204\n",
            "Data columns (total 14 columns):\n",
            " #   Column               Non-Null Count  Dtype \n",
            "---  ------               --------------  ----- \n",
            " 0   Gender               1205 non-null   object\n",
            " 1   Age                  1205 non-null   object\n",
            " 2   Education Level      1205 non-null   object\n",
            " 3   Institution Type     1205 non-null   object\n",
            " 4   IT Student           1205 non-null   object\n",
            " 5   Location             1205 non-null   object\n",
            " 6   Load-shedding        1205 non-null   object\n",
            " 7   Financial Condition  1205 non-null   object\n",
            " 8   Internet Type        1205 non-null   object\n",
            " 9   Network Type         1205 non-null   object\n",
            " 10  Class Duration       1205 non-null   object\n",
            " 11  Self Lms             1205 non-null   object\n",
            " 12  Device               1205 non-null   object\n",
            " 13  Adaptivity Level     1205 non-null   object\n",
            "dtypes: object(14)\n",
            "memory usage: 131.9+ KB\n"
          ]
        }
      ],
      "source": [
        "# cheaking datatype of all columns\n",
        "df.info()"
      ]
    },
    {
      "cell_type": "code",
      "execution_count": null,
      "id": "7774bbe6",
      "metadata": {
        "id": "7774bbe6",
        "outputId": "9295f7d9-da41-4d5b-e110-18e48b0773e5"
      },
      "outputs": [
        {
          "data": {
            "text/plain": [
              "Gender                 0\n",
              "Age                    0\n",
              "Education Level        0\n",
              "Institution Type       0\n",
              "IT Student             0\n",
              "Location               0\n",
              "Load-shedding          0\n",
              "Financial Condition    0\n",
              "Internet Type          0\n",
              "Network Type           0\n",
              "Class Duration         0\n",
              "Self Lms               0\n",
              "Device                 0\n",
              "Adaptivity Level       0\n",
              "dtype: int64"
            ]
          },
          "execution_count": 6,
          "metadata": {},
          "output_type": "execute_result"
        }
      ],
      "source": [
        "#cheaking missing value\n",
        "\n",
        "df.isnull().sum()"
      ]
    },
    {
      "cell_type": "markdown",
      "id": "7952a114",
      "metadata": {
        "id": "7952a114"
      },
      "source": [
        "#### Not any missing value"
      ]
    },
    {
      "cell_type": "code",
      "execution_count": null,
      "id": "6f6e4a77",
      "metadata": {
        "id": "6f6e4a77",
        "outputId": "b23b30b9-220d-428d-ac44-1980e11c26a5"
      },
      "outputs": [
        {
          "data": {
            "text/html": [
              "<div>\n",
              "<style scoped>\n",
              "    .dataframe tbody tr th:only-of-type {\n",
              "        vertical-align: middle;\n",
              "    }\n",
              "\n",
              "    .dataframe tbody tr th {\n",
              "        vertical-align: top;\n",
              "    }\n",
              "\n",
              "    .dataframe thead th {\n",
              "        text-align: right;\n",
              "    }\n",
              "</style>\n",
              "<table border=\"1\" class=\"dataframe\">\n",
              "  <thead>\n",
              "    <tr style=\"text-align: right;\">\n",
              "      <th></th>\n",
              "      <th>count</th>\n",
              "      <th>unique</th>\n",
              "      <th>top</th>\n",
              "      <th>freq</th>\n",
              "    </tr>\n",
              "  </thead>\n",
              "  <tbody>\n",
              "    <tr>\n",
              "      <th>Gender</th>\n",
              "      <td>1205</td>\n",
              "      <td>2</td>\n",
              "      <td>Boy</td>\n",
              "      <td>663</td>\n",
              "    </tr>\n",
              "    <tr>\n",
              "      <th>Age</th>\n",
              "      <td>1205</td>\n",
              "      <td>6</td>\n",
              "      <td>21-25</td>\n",
              "      <td>374</td>\n",
              "    </tr>\n",
              "    <tr>\n",
              "      <th>Education Level</th>\n",
              "      <td>1205</td>\n",
              "      <td>3</td>\n",
              "      <td>School</td>\n",
              "      <td>530</td>\n",
              "    </tr>\n",
              "    <tr>\n",
              "      <th>Institution Type</th>\n",
              "      <td>1205</td>\n",
              "      <td>2</td>\n",
              "      <td>Non Government</td>\n",
              "      <td>823</td>\n",
              "    </tr>\n",
              "    <tr>\n",
              "      <th>IT Student</th>\n",
              "      <td>1205</td>\n",
              "      <td>2</td>\n",
              "      <td>No</td>\n",
              "      <td>901</td>\n",
              "    </tr>\n",
              "    <tr>\n",
              "      <th>Location</th>\n",
              "      <td>1205</td>\n",
              "      <td>2</td>\n",
              "      <td>Yes</td>\n",
              "      <td>935</td>\n",
              "    </tr>\n",
              "    <tr>\n",
              "      <th>Load-shedding</th>\n",
              "      <td>1205</td>\n",
              "      <td>2</td>\n",
              "      <td>Low</td>\n",
              "      <td>1004</td>\n",
              "    </tr>\n",
              "    <tr>\n",
              "      <th>Financial Condition</th>\n",
              "      <td>1205</td>\n",
              "      <td>3</td>\n",
              "      <td>Mid</td>\n",
              "      <td>878</td>\n",
              "    </tr>\n",
              "    <tr>\n",
              "      <th>Internet Type</th>\n",
              "      <td>1205</td>\n",
              "      <td>2</td>\n",
              "      <td>Mobile Data</td>\n",
              "      <td>695</td>\n",
              "    </tr>\n",
              "    <tr>\n",
              "      <th>Network Type</th>\n",
              "      <td>1205</td>\n",
              "      <td>3</td>\n",
              "      <td>4G</td>\n",
              "      <td>775</td>\n",
              "    </tr>\n",
              "    <tr>\n",
              "      <th>Class Duration</th>\n",
              "      <td>1205</td>\n",
              "      <td>3</td>\n",
              "      <td>1-3</td>\n",
              "      <td>840</td>\n",
              "    </tr>\n",
              "    <tr>\n",
              "      <th>Self Lms</th>\n",
              "      <td>1205</td>\n",
              "      <td>2</td>\n",
              "      <td>No</td>\n",
              "      <td>995</td>\n",
              "    </tr>\n",
              "    <tr>\n",
              "      <th>Device</th>\n",
              "      <td>1205</td>\n",
              "      <td>3</td>\n",
              "      <td>Mobile</td>\n",
              "      <td>1013</td>\n",
              "    </tr>\n",
              "    <tr>\n",
              "      <th>Adaptivity Level</th>\n",
              "      <td>1205</td>\n",
              "      <td>3</td>\n",
              "      <td>Moderate</td>\n",
              "      <td>625</td>\n",
              "    </tr>\n",
              "  </tbody>\n",
              "</table>\n",
              "</div>"
            ],
            "text/plain": [
              "                    count unique             top  freq\n",
              "Gender               1205      2             Boy   663\n",
              "Age                  1205      6           21-25   374\n",
              "Education Level      1205      3          School   530\n",
              "Institution Type     1205      2  Non Government   823\n",
              "IT Student           1205      2              No   901\n",
              "Location             1205      2             Yes   935\n",
              "Load-shedding        1205      2             Low  1004\n",
              "Financial Condition  1205      3             Mid   878\n",
              "Internet Type        1205      2     Mobile Data   695\n",
              "Network Type         1205      3              4G   775\n",
              "Class Duration       1205      3             1-3   840\n",
              "Self Lms             1205      2              No   995\n",
              "Device               1205      3          Mobile  1013\n",
              "Adaptivity Level     1205      3        Moderate   625"
            ]
          },
          "execution_count": 7,
          "metadata": {},
          "output_type": "execute_result"
        }
      ],
      "source": [
        "#Describing the dataset\n",
        "\n",
        "df.describe().T\n",
        "\n",
        "#we transposed the dataframe for better view"
      ]
    },
    {
      "cell_type": "code",
      "execution_count": null,
      "id": "1e13dde8",
      "metadata": {
        "id": "1e13dde8",
        "outputId": "b06d1a9e-48de-484b-a195-fa918758ad6f"
      },
      "outputs": [
        {
          "data": {
            "text/plain": [
              "<AxesSubplot:ylabel='Adaptivity Level'>"
            ]
          },
          "execution_count": 8,
          "metadata": {},
          "output_type": "execute_result"
        },
        {
          "data": {
            "image/png": "[encoded data removed]",
            "text/plain": [
              "<Figure size 800x600 with 1 Axes>"
            ]
          },
          "metadata": {},
          "output_type": "display_data"
        }
      ],
      "source": [
        "# Pie chart show % adaptivity level in dataset\n",
        "\n",
        "plt.figure(figsize=(8,6))\n",
        "df['Adaptivity Level'].value_counts().plot.pie(autopct='%1.1f%%' ,shadow=True)\n",
        ""
      ]
    },
    {
      "cell_type": "markdown",
      "id": "84cd59d8",
      "metadata": {
        "id": "84cd59d8"
      },
      "source": [
        "### The percentage Adaptivity Level in Dataset\n",
        "\n",
        "#### Low = 39.8%\n",
        "#### Moderate = 51.9%\n",
        "#### High = 8.3 %"
      ]
    },
    {
      "cell_type": "code",
      "execution_count": null,
      "id": "0d9e2ffb",
      "metadata": {
        "id": "0d9e2ffb",
        "outputId": "02476fef-fe05-4d21-b839-540c0966e228"
      },
      "outputs": [
        {
          "data": {
            "text/plain": [
              "<AxesSubplot:ylabel='Device'>"
            ]
          },
          "execution_count": 9,
          "metadata": {},
          "output_type": "execute_result"
        },
        {
          "data": {
            "image/png": "[encoded data removed]",
            "text/plain": [
              "<Figure size 800x600 with 1 Axes>"
            ]
          },
          "metadata": {},
          "output_type": "display_data"
        }
      ],
      "source": [
        "# Show the Device using in Dataset\n",
        "\n",
        "plt.figure( figsize=(8,6))\n",
        "\n",
        "df['Device'].value_counts().plot.pie(autopct='%1.1f%%', shadow=True)"
      ]
    },
    {
      "cell_type": "markdown",
      "id": "235537eb",
      "metadata": {
        "id": "235537eb"
      },
      "source": [
        "### The Device using in Dataset\n",
        "#### Mobile = 84.1%\n",
        "#### Computer = 13.4%\n",
        "#### Tab = 2.5%"
      ]
    },
    {
      "cell_type": "code",
      "execution_count": null,
      "id": "f5966742",
      "metadata": {
        "id": "f5966742",
        "outputId": "1fa9600d-1e72-4c32-d007-0fd4f86f2901"
      },
      "outputs": [
        {
          "name": "stderr",
          "output_type": "stream",
          "text": [
            "C:\\Users\\91930\\anaconda3\\lib\\site-packages\\seaborn\\_decorators.py:36: FutureWarning: Pass the following variable as a keyword arg: x. From version 0.12, the only valid positional argument will be `data`, and passing other arguments without an explicit keyword will result in an error or misinterpretation.\n",
            "  warnings.warn(\n"
          ]
        },
        {
          "data": {
            "text/plain": [
              "<AxesSubplot:xlabel='Institution Type', ylabel='count'>"
            ]
          },
          "execution_count": 10,
          "metadata": {},
          "output_type": "execute_result"
        },
        {
          "data": {
            "image/png": "[encoded data removed]",
            "text/plain": [
              "<Figure size 800x600 with 1 Axes>"
            ]
          },
          "metadata": {},
          "output_type": "display_data"
        }
      ],
      "source": [
        "# Show the effect Institution Type in Adaptivity Level using in Dataset\n",
        "\n",
        "plt.figure(figsize=(8,6))\n",
        "\n",
        "\n",
        "sns.countplot(df[\"Institution Type\"],hue=df[\"Adaptivity Level\"])"
      ]
    },
    {
      "cell_type": "markdown",
      "id": "76e2607d",
      "metadata": {
        "id": "76e2607d"
      },
      "source": [
        "#### In general we can say that,\n",
        "Affect on non Government - HIGH\n",
        "\n",
        "Affect on Government - LOW\n"
      ]
    },
    {
      "cell_type": "code",
      "execution_count": null,
      "id": "6a1f397d",
      "metadata": {
        "id": "6a1f397d",
        "outputId": "78869aa9-1870-4fb5-e8d2-bc027a798b9c"
      },
      "outputs": [
        {
          "name": "stderr",
          "output_type": "stream",
          "text": [
            "C:\\Users\\91930\\anaconda3\\lib\\site-packages\\seaborn\\_decorators.py:36: FutureWarning: Pass the following variable as a keyword arg: x. From version 0.12, the only valid positional argument will be `data`, and passing other arguments without an explicit keyword will result in an error or misinterpretation.\n",
            "  warnings.warn(\n"
          ]
        },
        {
          "data": {
            "text/plain": [
              "<AxesSubplot:xlabel='Financial Condition', ylabel='count'>"
            ]
          },
          "execution_count": 12,
          "metadata": {},
          "output_type": "execute_result"
        },
        {
          "data": {
            "image/png": "[encoded data removed]",
            "text/plain": [
              "<Figure size 800x600 with 1 Axes>"
            ]
          },
          "metadata": {},
          "output_type": "display_data"
        }
      ],
      "source": [
        "#Show the effect Financial Condition in Adaptivity Level using in Dataset\n",
        "\n",
        "plt.figure(figsize=(8,6))\n",
        "\n",
        "sns.countplot(df[\"Financial Condition\"],hue=df[\"Adaptivity Level\"])"
      ]
    },
    {
      "cell_type": "markdown",
      "id": "8b57ee8a",
      "metadata": {
        "id": "8b57ee8a"
      },
      "source": [
        "#### According to this data,\n",
        "\n",
        "Middle Financial families Adaptivity - HIGH\n",
        "\n",
        "Poor and Rich Financial families Adaptivity - LOW"
      ]
    },
    {
      "cell_type": "code",
      "execution_count": null,
      "id": "cbba4308",
      "metadata": {
        "id": "cbba4308",
        "outputId": "761e7767-5f50-461a-f451-f85a1161a640"
      },
      "outputs": [
        {
          "name": "stderr",
          "output_type": "stream",
          "text": [
            "C:\\Users\\91930\\anaconda3\\lib\\site-packages\\seaborn\\_decorators.py:36: FutureWarning: Pass the following variable as a keyword arg: x. From version 0.12, the only valid positional argument will be `data`, and passing other arguments without an explicit keyword will result in an error or misinterpretation.\n",
            "  warnings.warn(\n"
          ]
        },
        {
          "data": {
            "text/plain": [
              "<AxesSubplot:xlabel='Gender', ylabel='count'>"
            ]
          },
          "execution_count": 13,
          "metadata": {},
          "output_type": "execute_result"
        },
        {
          "data": {
            "image/png": "[encoded data removed]",
            "text/plain": [
              "<Figure size 800x600 with 1 Axes>"
            ]
          },
          "metadata": {},
          "output_type": "display_data"
        }
      ],
      "source": [
        "# Show the effect Gender in Adaptivity Level using in Dataset\n",
        "\n",
        "plt.figure(figsize=(8,6))\n",
        "\n",
        "sns.countplot(df[\"Gender\"],hue=df[\"Adaptivity Level\"])"
      ]
    },
    {
      "cell_type": "markdown",
      "id": "eea90463",
      "metadata": {
        "id": "eea90463"
      },
      "source": [
        "#### Not remarkable difference between the gender for Adaptivity Level"
      ]
    },
    {
      "cell_type": "code",
      "execution_count": null,
      "id": "0a2c6507",
      "metadata": {
        "id": "0a2c6507",
        "outputId": "d4b88bdf-d986-41bc-afd3-7c111e65403d"
      },
      "outputs": [
        {
          "name": "stderr",
          "output_type": "stream",
          "text": [
            "C:\\Users\\91930\\anaconda3\\lib\\site-packages\\seaborn\\_decorators.py:36: FutureWarning: Pass the following variable as a keyword arg: x. From version 0.12, the only valid positional argument will be `data`, and passing other arguments without an explicit keyword will result in an error or misinterpretation.\n",
            "  warnings.warn(\n"
          ]
        },
        {
          "data": {
            "text/plain": [
              "<AxesSubplot:xlabel='Network Type', ylabel='count'>"
            ]
          },
          "execution_count": 14,
          "metadata": {},
          "output_type": "execute_result"
        },
        {
          "data": {
            "image/png": "[encoded data removed]",
            "text/plain": [
              "<Figure size 800x600 with 1 Axes>"
            ]
          },
          "metadata": {},
          "output_type": "display_data"
        }
      ],
      "source": [
        "# Show the effect Network Type in Adaptivity Level using in Dataset\n",
        "\n",
        "plt.figure(figsize=(8,6))\n",
        "sns.countplot(df[\"Network Type\"],hue=df[\"Adaptivity Level\"])"
      ]
    },
    {
      "cell_type": "markdown",
      "id": "8ce0a70c",
      "metadata": {
        "id": "8ce0a70c"
      },
      "source": [
        "#### Most of the students using - 4G and its progress Highest\n",
        "#### Than 3G and lowest 2G"
      ]
    },
    {
      "cell_type": "markdown",
      "id": "00696428",
      "metadata": {
        "id": "00696428"
      },
      "source": [
        "### Building a Machine Learning Model And Predict"
      ]
    },
    {
      "cell_type": "code",
      "execution_count": null,
      "id": "a636793f",
      "metadata": {
        "id": "a636793f"
      },
      "outputs": [],
      "source": [
        "#Importing the basic librarires for building model - classification\n",
        "\n",
        "from sklearn.model_selection import train_test_split\n",
        "from sklearn.ensemble import RandomForestClassifier\n",
        "from sklearn.preprocessing import LabelEncoder,StandardScaler\n",
        "from sklearn.metrics import accuracy_score\n"
      ]
    },
    {
      "cell_type": "code",
      "execution_count": null,
      "id": "9267a28f",
      "metadata": {
        "id": "9267a28f",
        "outputId": "bcaf7355-138e-41d0-ccbe-e18da17d647a"
      },
      "outputs": [
        {
          "name": "stdout",
          "output_type": "stream",
          "text": [
            "<class 'pandas.core.frame.DataFrame'>\n",
            "RangeIndex: 1205 entries, 0 to 1204\n",
            "Data columns (total 14 columns):\n",
            " #   Column               Non-Null Count  Dtype \n",
            "---  ------               --------------  ----- \n",
            " 0   Gender               1205 non-null   object\n",
            " 1   Age                  1205 non-null   object\n",
            " 2   Education Level      1205 non-null   object\n",
            " 3   Institution Type     1205 non-null   object\n",
            " 4   IT Student           1205 non-null   object\n",
            " 5   Location             1205 non-null   object\n",
            " 6   Load-shedding        1205 non-null   object\n",
            " 7   Financial Condition  1205 non-null   object\n",
            " 8   Internet Type        1205 non-null   object\n",
            " 9   Network Type         1205 non-null   object\n",
            " 10  Class Duration       1205 non-null   object\n",
            " 11  Self Lms             1205 non-null   object\n",
            " 12  Device               1205 non-null   object\n",
            " 13  Adaptivity Level     1205 non-null   object\n",
            "dtypes: object(14)\n",
            "memory usage: 131.9+ KB\n"
          ]
        }
      ],
      "source": [
        "df.info()"
      ]
    },
    {
      "cell_type": "markdown",
      "id": "32d12f45",
      "metadata": {
        "id": "32d12f45"
      },
      "source": [
        "### We need change all data type using LabelEncode"
      ]
    },
    {
      "cell_type": "code",
      "execution_count": null,
      "id": "35ee61ce",
      "metadata": {
        "id": "35ee61ce"
      },
      "outputs": [],
      "source": [
        "# change all data type using LabelEncode\n",
        "\n",
        "data=df\n",
        "\n",
        "label_encoders = {}\n",
        "categorical_columns = data.columns  # I would recommend using columns names here if you're using pandas. If you're using numpy then stick with range(n) instead\n",
        "\n",
        "for column in categorical_columns:\n",
        "    label_encoders[column] = LabelEncoder()\n",
        "    data[column] = label_encoders[column].fit_transform(data[column])"
      ]
    },
    {
      "cell_type": "code",
      "execution_count": null,
      "id": "137eccca",
      "metadata": {
        "id": "137eccca",
        "outputId": "e9e6b846-b209-4937-cf79-ecc557e153b8"
      },
      "outputs": [
        {
          "data": {
            "text/html": [
              "<div>\n",
              "<style scoped>\n",
              "    .dataframe tbody tr th:only-of-type {\n",
              "        vertical-align: middle;\n",
              "    }\n",
              "\n",
              "    .dataframe tbody tr th {\n",
              "        vertical-align: top;\n",
              "    }\n",
              "\n",
              "    .dataframe thead th {\n",
              "        text-align: right;\n",
              "    }\n",
              "</style>\n",
              "<table border=\"1\" class=\"dataframe\">\n",
              "  <thead>\n",
              "    <tr style=\"text-align: right;\">\n",
              "      <th></th>\n",
              "      <th>Gender</th>\n",
              "      <th>Age</th>\n",
              "      <th>Education Level</th>\n",
              "      <th>Institution Type</th>\n",
              "      <th>IT Student</th>\n",
              "      <th>Location</th>\n",
              "      <th>Load-shedding</th>\n",
              "      <th>Financial Condition</th>\n",
              "      <th>Internet Type</th>\n",
              "      <th>Network Type</th>\n",
              "      <th>Class Duration</th>\n",
              "      <th>Self Lms</th>\n",
              "      <th>Device</th>\n",
              "      <th>Adaptivity Level</th>\n",
              "    </tr>\n",
              "  </thead>\n",
              "  <tbody>\n",
              "    <tr>\n",
              "      <th>0</th>\n",
              "      <td>0</td>\n",
              "      <td>3</td>\n",
              "      <td>2</td>\n",
              "      <td>1</td>\n",
              "      <td>0</td>\n",
              "      <td>1</td>\n",
              "      <td>1</td>\n",
              "      <td>0</td>\n",
              "      <td>1</td>\n",
              "      <td>2</td>\n",
              "      <td>2</td>\n",
              "      <td>0</td>\n",
              "      <td>2</td>\n",
              "      <td>2</td>\n",
              "    </tr>\n",
              "    <tr>\n",
              "      <th>1</th>\n",
              "      <td>1</td>\n",
              "      <td>3</td>\n",
              "      <td>2</td>\n",
              "      <td>1</td>\n",
              "      <td>0</td>\n",
              "      <td>1</td>\n",
              "      <td>0</td>\n",
              "      <td>0</td>\n",
              "      <td>0</td>\n",
              "      <td>2</td>\n",
              "      <td>1</td>\n",
              "      <td>1</td>\n",
              "      <td>1</td>\n",
              "      <td>2</td>\n",
              "    </tr>\n",
              "    <tr>\n",
              "      <th>2</th>\n",
              "      <td>1</td>\n",
              "      <td>2</td>\n",
              "      <td>0</td>\n",
              "      <td>0</td>\n",
              "      <td>0</td>\n",
              "      <td>1</td>\n",
              "      <td>1</td>\n",
              "      <td>0</td>\n",
              "      <td>1</td>\n",
              "      <td>2</td>\n",
              "      <td>1</td>\n",
              "      <td>0</td>\n",
              "      <td>1</td>\n",
              "      <td>2</td>\n",
              "    </tr>\n",
              "    <tr>\n",
              "      <th>3</th>\n",
              "      <td>1</td>\n",
              "      <td>1</td>\n",
              "      <td>1</td>\n",
              "      <td>1</td>\n",
              "      <td>0</td>\n",
              "      <td>1</td>\n",
              "      <td>1</td>\n",
              "      <td>0</td>\n",
              "      <td>0</td>\n",
              "      <td>2</td>\n",
              "      <td>1</td>\n",
              "      <td>0</td>\n",
              "      <td>1</td>\n",
              "      <td>2</td>\n",
              "    </tr>\n",
              "    <tr>\n",
              "      <th>4</th>\n",
              "      <td>1</td>\n",
              "      <td>2</td>\n",
              "      <td>1</td>\n",
              "      <td>1</td>\n",
              "      <td>0</td>\n",
              "      <td>1</td>\n",
              "      <td>1</td>\n",
              "      <td>1</td>\n",
              "      <td>0</td>\n",
              "      <td>1</td>\n",
              "      <td>0</td>\n",
              "      <td>0</td>\n",
              "      <td>1</td>\n",
              "      <td>1</td>\n",
              "    </tr>\n",
              "  </tbody>\n",
              "</table>\n",
              "</div>"
            ],
            "text/plain": [
              "   Gender  Age  Education Level  Institution Type  IT Student  Location  \\\n",
              "0       0    3                2                 1           0         1   \n",
              "1       1    3                2                 1           0         1   \n",
              "2       1    2                0                 0           0         1   \n",
              "3       1    1                1                 1           0         1   \n",
              "4       1    2                1                 1           0         1   \n",
              "\n",
              "   Load-shedding  Financial Condition  Internet Type  Network Type  \\\n",
              "0              1                    0              1             2   \n",
              "1              0                    0              0             2   \n",
              "2              1                    0              1             2   \n",
              "3              1                    0              0             2   \n",
              "4              1                    1              0             1   \n",
              "\n",
              "   Class Duration  Self Lms  Device  Adaptivity Level  \n",
              "0               2         0       2                 2  \n",
              "1               1         1       1                 2  \n",
              "2               1         0       1                 2  \n",
              "3               1         0       1                 2  \n",
              "4               0         0       1                 1  "
            ]
          },
          "execution_count": 18,
          "metadata": {},
          "output_type": "execute_result"
        }
      ],
      "source": [
        "data.head()"
      ]
    },
    {
      "cell_type": "code",
      "execution_count": null,
      "id": "648c3237",
      "metadata": {
        "id": "648c3237",
        "outputId": "7e5104ef-cb20-4a3d-dfc9-6c8d578dc109"
      },
      "outputs": [
        {
          "name": "stdout",
          "output_type": "stream",
          "text": [
            "X Train :  (843, 13)\n",
            "X Test  :  (362, 13)\n",
            "Y Train :  (843,)\n",
            "Y Test  :  (362,)\n"
          ]
        }
      ],
      "source": [
        "#Defined X value and y value , and split the data train\n",
        "X = df.drop(columns=\"Adaptivity Level\")\n",
        "y = df[\"Adaptivity Level\"]   # y = quality\n",
        "\n",
        "# split the data train and test\n",
        "X_train, X_test, y_train, y_test = train_test_split(X, y, test_size=0.30, random_state=42)\n",
        "\n",
        "print(\"X Train : \", X_train.shape)\n",
        "print(\"X Test  : \", X_test.shape)\n",
        "print(\"Y Train : \", y_train.shape)\n",
        "print(\"Y Test  : \", y_test.shape)"
      ]
    },
    {
      "cell_type": "code",
      "execution_count": null,
      "id": "2248d1e5",
      "metadata": {
        "id": "2248d1e5",
        "outputId": "52471d10-998d-4e88-fe47-8d4422836d57"
      },
      "outputs": [
        {
          "data": {
            "text/plain": [
              "RandomForestClassifier()"
            ]
          },
          "execution_count": 21,
          "metadata": {},
          "output_type": "execute_result"
        }
      ],
      "source": [
        "#Train the machine learning algorithm\n",
        "\n",
        "RFR = RandomForestClassifier()\n",
        "RFR.fit(X_train,y_train)"
      ]
    },
    {
      "cell_type": "code",
      "execution_count": null,
      "id": "a7367741",
      "metadata": {
        "id": "a7367741",
        "outputId": "d8151d65-bcf0-4c32-d59c-816ad199d7e8"
      },
      "outputs": [
        {
          "name": "stdout",
          "output_type": "stream",
          "text": [
            "Accuracy: 0.9033149171270718\n"
          ]
        }
      ],
      "source": [
        "#Make predictions\n",
        "y_pred = RFR.predict(X_test)\n",
        "\n",
        "#Evaluate the accuracy\n",
        "accuracy =accuracy_score(y_test, y_pred)\n",
        "print(\"Accuracy:\",accuracy)"
      ]
    },
    {
      "cell_type": "markdown",
      "id": "7a67b838",
      "metadata": {
        "id": "7a67b838"
      },
      "source": [
        "## So our RandomForestClassifier Model has 90.33% Accuracy"
      ]
    },
    {
      "cell_type": "code",
      "execution_count": null,
      "id": "c38c2ee0",
      "metadata": {
        "id": "c38c2ee0"
      },
      "outputs": [],
      "source": []
    }
  ],
  "metadata": {
    "kernelspec": {
      "display_name": "Python 3 (ipykernel)",
      "language": "python",
      "name": "python3"
    },
    "language_info": {
      "codemirror_mode": {
        "name": "ipython",
        "version": 3
      },
      "file_extension": ".py",
      "mimetype": "text/x-python",
      "name": "python",
      "nbconvert_exporter": "python",
      "pygments_lexer": "ipython3",
      "version": "3.9.13"
    },
    "colab": {
      "provenance": []
    }
  },
  "nbformat": 4,
  "nbformat_minor": 5
}